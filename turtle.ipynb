{
 "cells": [
  {
   "cell_type": "code",
   "execution_count": 1,
   "metadata": {},
   "outputs": [],
   "source": [
    "import turtle\n",
    "my_turtle = turtle.Turtle()\n",
    "my_win = turtle.Screen()\n",
    "def draw_spiral(my_turtle, line_len):\n",
    "    if line_len > 0:\n",
    "        my_turtle.forward(line_len)\n",
    "        my_turtle.right(90)\n",
    "        draw_spiral(my_turtle, line_len - 5)\n",
    "draw_spiral(my_turtle, 100)\n",
    "my_win.exitonclick()\n"
   ]
  },
  {
   "cell_type": "code",
   "execution_count": 1,
   "metadata": {},
   "outputs": [],
   "source": [
    "import turtle\n",
    "\n",
    "# Create turtle and screen objects\n",
    "my_turtle = turtle.Turtle()\n",
    "my_win = turtle.Screen()\n",
    "\n",
    "# Set the starting position of the turtle\n",
    "my_turtle.penup()  # Lift the pen to avoid drawing while moving\n",
    "my_turtle.goto(-50, 150)  # Move the turtle to the coordinate (-50, 50)\n",
    "my_turtle.pendown()  # Place the pen back down to start drawing\n",
    "\n",
    "# Recursive function to draw a spiral\n",
    "def draw_spiral(my_turtle, line_len):\n",
    "    if line_len > 0:\n",
    "        my_turtle.forward(line_len)\n",
    "        my_turtle.right(90)\n",
    "        draw_spiral(my_turtle, line_len - 5)\n",
    "\n",
    "# Start drawing the spiral from the initial length of 100 pixels\n",
    "draw_spiral(my_turtle, 100)\n",
    "\n",
    "# Keep the window open until clicked\n",
    "my_win.exitonclick()\n"
   ]
  },
  {
   "cell_type": "code",
   "execution_count": null,
   "metadata": {},
   "outputs": [],
   "source": [
    "import turtle\n",
    "def tree(branch_len, t):\n",
    "    if branch_len > 5:\n",
    "        t.forward(branch_len)\n",
    "        t.right(20)\n",
    "        tree(branch_len - 15, t)\n",
    "        t.left(40)\n",
    "        tree(branch_len - 15, t)\n",
    "        t.right(20)\n",
    "        t.backward(branch_len)\n",
    "def main():\n",
    "    t = turtle.Turtle()\n",
    "    my_win = turtle.Screen()\n",
    "    t.left(90)\n",
    "    t.up()\n",
    "    t.backward(100)\n",
    "    t.down()\n",
    "    t.color(\"green\")\n",
    "    tree(75, t)\n",
    "    my_win.exitonclick()\n",
    "main()\n"
   ]
  },
  {
   "cell_type": "code",
   "execution_count": 1,
   "metadata": {},
   "outputs": [],
   "source": [
    "import turtle\n",
    "\n",
    "def tree(branch_len, t):\n",
    "    if branch_len > 5:\n",
    "        # Draw the current branch\n",
    "        t.forward(branch_len)\n",
    "        \n",
    "        # Right branch\n",
    "        t.right(20)\n",
    "        tree(branch_len - 15, t)\n",
    "        \n",
    "        # Left branch\n",
    "        t.left(40)\n",
    "        tree(branch_len - 15, t)\n",
    "        \n",
    "        # Return to the original branch position\n",
    "        t.right(20)\n",
    "        t.backward(branch_len)  # Move back to the original position\n",
    "\n",
    "def main():\n",
    "    # Set up the turtle\n",
    "    t = turtle.Turtle()\n",
    "    my_win = turtle.Screen()\n",
    "    t.left(90)  # Face upwards\n",
    "    t.up()      # Lift the pen\n",
    "    t.backward(100)  # Move back to start position\n",
    "    t.down()    # Put the pen down\n",
    "    t.color(\"green\")  # Set the branch color\n",
    "    \n",
    "    # Start drawing the tree\n",
    "    tree(75, t)\n",
    "    \n",
    "    # Wait for the user to click to close the window\n",
    "    my_win.exitonclick()\n",
    "\n",
    "main()\n"
   ]
  }
 ],
 "metadata": {
  "kernelspec": {
   "display_name": "Python 3",
   "language": "python",
   "name": "python3"
  },
  "language_info": {
   "codemirror_mode": {
    "name": "ipython",
    "version": 3
   },
   "file_extension": ".py",
   "mimetype": "text/x-python",
   "name": "python",
   "nbconvert_exporter": "python",
   "pygments_lexer": "ipython3",
   "version": "3.12.6"
  }
 },
 "nbformat": 4,
 "nbformat_minor": 2
}
