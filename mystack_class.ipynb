{
 "cells": [
  {
   "cell_type": "code",
   "execution_count": 10,
   "metadata": {},
   "outputs": [],
   "source": [
    "class Stack:\n",
    "    def __init__(self):\n",
    "         self.items=[]\n",
    "    def pop(self):\n",
    "         return self.items.pop()   \n",
    "    def is_empty(self):\n",
    "         self.items=[]  \n",
    "    def push(self,items):\n",
    "        self.items.append(items)  \n",
    "    def peek(self):\n",
    "         return self.items[(len(self.items)-1)] \n",
    "    def size(self):\n",
    "         return len(self.items)"
   ]
  },
  {
   "cell_type": "code",
   "execution_count": 11,
   "metadata": {},
   "outputs": [
    {
     "data": {
      "text/plain": [
       "'cat'"
      ]
     },
     "execution_count": 11,
     "metadata": {},
     "output_type": "execute_result"
    }
   ],
   "source": [
    "s =Stack()\n",
    "\n",
    "\n",
    "s.is_empty()\n",
    "s.push(\"cat\")\n",
    "s.size()\n",
    "s.peek()"
   ]
  },
  {
   "cell_type": "markdown",
   "metadata": {},
   "source": [
    "<div style=\"background:#667;padding:20px\">It is important to note that we could have chosen to implement the stack using a list where\n",
    "the top is at the beginning instead of at the end. In this case, the previous pop and append\n",
    "methods would no longer work and we would have to index position 0 (the first item in the\n",
    "list) explicitly using pop and insert. The implementation is shown below.\n",
    "</div>"
   ]
  },
  {
   "cell_type": "code",
   "execution_count": 3,
   "metadata": {},
   "outputs": [],
   "source": [
    "class Stack:\n",
    "    def __init__(self):\n",
    "        self.items = []\n",
    "    def is_empty(self):\n",
    "        return self.items == []\n",
    "    def push(self, item):\n",
    "        self.items.insert(0, item)\n",
    "    def pop(self):\n",
    "        return self.items.pop(0)\n",
    "    def peek(self):\n",
    "        return self.items[0]\n",
    "    def size(self):\n",
    "        return len(self.items)"
   ]
  },
  {
   "cell_type": "markdown",
   "metadata": {},
   "source": [
    "<div style=\"background:#667;padding:20px\">This ability to change the physical implementation of an abstract data type while maintaining\n",
    "the logical characteristics is an example of abstraction at work. However, even though the\n",
    "stack will work either way, if we consider the performance of the two implementations, there\n",
    "is definitely a difference. Recall that the append and pop() operations were both 𝑂(1). This\n",
    "means that the first implementation will perform push and pop in constant time no matter how\n",
    "many items are on the stack. The performance of the second implementation suffers in that\n",
    "the insert(0) and pop(0) operations will both require 𝑂(𝑛) for a stack of size 𝑛. Clearly, even\n",
    "though the implementations are logically equivalent, they would have very different timings\n",
    "when performing benchmark testing.</div>"
   ]
  },
  {
   "cell_type": "code",
   "execution_count": 5,
   "metadata": {},
   "outputs": [],
   "source": [
    "def par_checker(symbol_string):\n",
    "    s = Stack()\n",
    "    balanced = True\n",
    "    index = 0\n",
    "    while index < len(symbol_string) and balanced:\n",
    "        symbol = symbol_string[index]\n",
    "        if symbol == \"(\":\n",
    "            s.push(symbol)\n",
    "        else:\n",
    "            if s.is_empty():\n",
    "                balanced = False\n",
    "            else:\n",
    "                s.pop()\n",
    "        index = index + 1  # increment index here\n",
    "\n",
    "    if balanced and s.is_empty():\n",
    "        return True\n",
    "    else:\n",
    "        return False"
   ]
  },
  {
   "cell_type": "code",
   "execution_count": 6,
   "metadata": {},
   "outputs": [
    {
     "name": "stdout",
     "output_type": "stream",
     "text": [
      "True\n"
     ]
    }
   ],
   "source": [
    "\n",
    "print(par_checker('((()))'))"
   ]
  },
  {
   "cell_type": "code",
   "execution_count": 8,
   "metadata": {},
   "outputs": [],
   "source": [
    "def check(dec):\n",
    "    rem_stack=Stack()\n",
    "    "
   ]
  },
  {
   "cell_type": "code",
   "execution_count": 6,
   "metadata": {},
   "outputs": [
    {
     "name": "stdout",
     "output_type": "stream",
     "text": [
      "10101\n"
     ]
    }
   ],
   "source": [
    "#import Stack # As previously defined\n",
    "\n",
    "def divide_by_2(dec_number):\n",
    "    rem_stack = Stack()\n",
    "    while dec_number > 0:\n",
    "        rem = dec_number % 2\n",
    "        rem_stack.push(rem)\n",
    "        dec_number = dec_number // 2\n",
    "\n",
    "    bin_string = \"\"\n",
    "    while not rem_stack.is_empty():\n",
    "        bin_string = bin_string + str(rem_stack.pop())\n",
    "\n",
    "    return bin_string\n",
    "\n",
    "print(divide_by_2(21))\n"
   ]
  },
  {
   "cell_type": "code",
   "execution_count": 1,
   "metadata": {},
   "outputs": [],
   "source": [
    "class Queue:\n",
    "    def __init__(self):\n",
    "        self.items = []\n",
    "    def is_empty(self):\n",
    "        return self.items == []\n",
    "    def enqueue(self, item):\n",
    "        self.items.insert(0,item)\n",
    "    def dequeue(self):\n",
    "        return self.items.pop()\n",
    "    def size(self):\n",
    "        return len(self.items)"
   ]
  },
  {
   "cell_type": "code",
   "execution_count": 14,
   "metadata": {},
   "outputs": [
    {
     "data": {
      "text/plain": [
       "'dog'"
      ]
     },
     "execution_count": 14,
     "metadata": {},
     "output_type": "execute_result"
    }
   ],
   "source": [
    "q = Queue()\n",
    "q.items\n",
    "q.is_empty()\n",
    "q.enqueue(\"cat\")\n",
    "q.items\n",
    "q.dequeue()\n",
    "q.items\n",
    "q.enqueue(\"dog\")\n",
    "q.items\n",
    "q.dequeue()\n"
   ]
  },
  {
   "cell_type": "code",
   "execution_count": 3,
   "metadata": {},
   "outputs": [
    {
     "name": "stdout",
     "output_type": "stream",
     "text": [
      "The survivor is in position: 4\n"
     ]
    }
   ],
   "source": [
    "def josephus(n, k):\n",
    "    if n == 1:\n",
    "        return 0  # The last person standing (0-indexed)\n",
    "    else:\n",
    "        # The Josephus position for n-1 people\n",
    "        return (josephus(n - 1, k) + k) % n\n",
    "\n",
    "def find_survivor(n, k):\n",
    "    # The function returns the 1-based index (humans count from 1, not 0)\n",
    "    return josephus(n, k) + 1\n",
    "\n",
    "# Example usage:\n",
    "n = 7  # Number of people in the circle\n",
    "k = 3  # Every 3rd person is eliminated\n",
    "\n",
    "survivor = find_survivor(n, k)\n",
    "print(f\"The survivor is in position: {survivor}\")\n"
   ]
  },
  {
   "cell_type": "code",
   "execution_count": null,
   "metadata": {},
   "outputs": [],
   "source": [
    "def josephus(n, k):\n",
    "    survivor = 0  # Start with the position of the last person standing (0-indexed)\n",
    "    for i in range(1, n + 1):\n",
    "        survivor = (survivor + k) % i  # Update the position based on the current number of people\n",
    "    return survivor + 1  # Convert to 1-based index\n",
    "\n",
    "# Example usage:\n",
    "n = 7  # Number of people in the circle\n",
    "k = 3  # Every 3rd person is eliminated\n",
    "\n",
    "survivor = josephus(n, k)\n",
    "print(f\"The survivor is in position: {survivor}\")\n"
   ]
  },
  {
   "cell_type": "code",
   "execution_count": 18,
   "metadata": {},
   "outputs": [
    {
     "name": "stdout",
     "output_type": "stream",
     "text": [
      "Starting round with players: ['🧑🏼\\u200d💻', '👽', '🤫']\n",
      "Potato is being passed for 9 seconds...\n",
      "Remaining players: ['👽', '🤫', '🧑🏼\\u200d💻']\n",
      "Remaining players: ['🤫', '🧑🏼\\u200d💻', '👽']\n",
      "Remaining players: ['🧑🏼\\u200d💻', '👽', '🤫']\n",
      "Remaining players: ['👽', '🤫', '🧑🏼\\u200d💻']\n",
      "Remaining players: ['🤫', '🧑🏼\\u200d💻', '👽']\n",
      "Remaining players: ['🧑🏼\\u200d💻', '👽', '🤫']\n",
      "Remaining players: ['👽', '🤫', '🧑🏼\\u200d💻']\n",
      "Remaining players: ['🤫', '🧑🏼\\u200d💻', '👽']\n",
      "Remaining players: ['🧑🏼\\u200d💻', '👽', '🤫']\n",
      "Player 🧑🏼‍💻 is out!\n",
      "Starting round with players: ['👽', '🤫']\n",
      "Potato is being passed for 4 seconds...\n",
      "Remaining players: ['🤫', '👽']\n",
      "Remaining players: ['👽', '🤫']\n",
      "Remaining players: ['🤫', '👽']\n",
      "Remaining players: ['👽', '🤫']\n",
      "Player 👽 is out!\n",
      "The winner is 🤫!\n"
     ]
    }
   ],
   "source": [
    "import random\n",
    "import time\n",
    "\n",
    "def hot_potato(players, countdown_time):\n",
    "    # Players are stored in a regular list\n",
    "    while len(players) > 1:\n",
    "        print(f\"Starting round with players: {players}\")\n",
    "        \n",
    "        # Countdown before removing a player\n",
    "        countdown = random.randint(1, countdown_time)\n",
    "        print(f\"Potato is being passed for {countdown} seconds...\")\n",
    "\n",
    "        # Simulate passing the potato by shifting elements in the list\n",
    "        for _ in range(countdown):\n",
    "            # Move the first player to the end of the list\n",
    "            players.append(players.pop(0))\n",
    "            print(f\"Remaining players: {players}\")\n",
    "            time.sleep(1)  # Simulate time passing for each pass\n",
    "\n",
    "        # Eliminate the player holding the potato\n",
    "        eliminated = players.pop(0)\n",
    "        print(f\"Player {eliminated} is out!\")\n",
    "\n",
    "    # The last player remaining is the winner\n",
    "    winner = players[0]\n",
    "    print(f\"The winner is {winner}!\")\n",
    "    return winner\n",
    "\n",
    "# Example of game setup and execution\n",
    "players = [\"🧑🏼‍💻\", \"👽\", \"🤫\"]\n",
    "countdown_time = 10  # Max seconds the potato can be passed around\n",
    "\n",
    "winner = hot_potato(players, countdown_time)\n"
   ]
  }
 ],
 "metadata": {
  "kernelspec": {
   "display_name": "Python 3",
   "language": "python",
   "name": "python3"
  },
  "language_info": {
   "codemirror_mode": {
    "name": "ipython",
    "version": 3
   },
   "file_extension": ".py",
   "mimetype": "text/x-python",
   "name": "python",
   "nbconvert_exporter": "python",
   "pygments_lexer": "ipython3",
   "version": "3.12.6"
  }
 },
 "nbformat": 4,
 "nbformat_minor": 2
}
