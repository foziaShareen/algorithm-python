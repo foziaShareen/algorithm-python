{
 "cells": [
  {
   "cell_type": "markdown",
   "metadata": {},
   "source": [
    "<div style=\"background:#665;padding:20px;color:white\"> <h1>Recursion </h1>\n",
    "Recursion is a method of solving problems that involves breaking⛓️‍💥⛓️‍💥💔 a problem down into smaller\n",
    "and smaller subproblems until you get to a small enough problem that it can be solved trivially.\n",
    "Usually recursion involves a function calling itself. While it may not seem like much on the\n",
    "surface, recursion allows us to write elegant solutions to problems that may otherwise be very\n",
    "difficult to program.\n",
    "\n",
    "</div>"
   ]
  },
  {
   "cell_type": "code",
   "execution_count": 3,
   "metadata": {},
   "outputs": [
    {
     "name": "stdout",
     "output_type": "stream",
     "text": [
      "15\n"
     ]
    }
   ],
   "source": [
    "mylist = [1,2,3,4,5]\n",
    "def sum_of_list(mylist):\n",
    "    sum = 0\n",
    "    for i in mylist:\n",
    "        sum+=i\n",
    "    return sum\n",
    "res=sum_of_list(mylist) \n",
    "print(res)   \n"
   ]
  },
  {
   "cell_type": "markdown",
   "metadata": {},
   "source": [
    "<div style=\"background:#665;padding:20px;color:white\"> <h1>Q:Suppose we have not for ➰➿or while loop❔ </h1>\n",
    " we will do it mathematically by following method\n",
    "total = (1 + (2 + (3 + (4 + 5))))<br>\n",
    "total = (1 + (2 + (3 + 9)))<br>\n",
    "total = (1 + (2 + 12))<br>\n",
    "total = (1 + 14)<br>\n",
    "total = 15</div>"
   ]
  },
  {
   "cell_type": "code",
   "execution_count": null,
   "metadata": {},
   "outputs": [],
   "source": []
  },
  {
   "cell_type": "code",
   "execution_count": 13,
   "metadata": {},
   "outputs": [],
   "source": [
    "#in python we can do it like this\n",
    "def sum_of_list(mylist):\n",
    "    if len(mylist)==1:\n",
    "        return mylist[0]\n",
    "    else:\n",
    "        return mylist[0]+sum_of_list(mylist[1:])"
   ]
  },
  {
   "cell_type": "code",
   "execution_count": 14,
   "metadata": {},
   "outputs": [
    {
     "name": "stdout",
     "output_type": "stream",
     "text": [
      "9\n"
     ]
    }
   ],
   "source": [
    "mylist1 =[2,3,4]\n",
    "res=sum_of_list(mylist1)\n",
    "print(res)"
   ]
  },
  {
   "cell_type": "code",
   "execution_count": 23,
   "metadata": {},
   "outputs": [
    {
     "name": "stdout",
     "output_type": "stream",
     "text": [
      "1111\n"
     ]
    }
   ],
   "source": [
    "def making_string(num):\n",
    "    if num == 0 or num == 1:\n",
    "        return str(num)\n",
    "    else:\n",
    "        return str(num % 2) + making_string(num // 2)\n",
    "\n",
    "res = making_string(15)\n",
    "print(res)"
   ]
  },
  {
   "cell_type": "markdown",
   "metadata": {},
   "source": [
    "<div style=\"background:#665;padding:20px;color:white\"> <h1>How to tackle palindrome❔ </h1></div>"
   ]
  },
  {
   "cell_type": "code",
   "execution_count": 1,
   "metadata": {},
   "outputs": [],
   "source": [
    "def palin(str):\n",
    "    if len(str) == 0 or len(str) == 1:\n",
    "        return True\n",
    "    else:\n",
    "        if str[0] == str[-1]:\n",
    "            return palin(str[1:-1])\n",
    "        else:\n",
    "            return False"
   ]
  },
  {
   "cell_type": "code",
   "execution_count": 5,
   "metadata": {},
   "outputs": [
    {
     "name": "stdout",
     "output_type": "stream",
     "text": [
      "rear is not a palindrome\n"
     ]
    }
   ],
   "source": [
    "word = \"radar\"\n",
    "if palin(word):\n",
    "    print(word, \"is a palindrome\")\n",
    "else:\n",
    "    print(word, \"is not a palindrome\")\n",
    "# when first time radar is checked in palindrom function, it will return true.it will discard r from bothe\n",
    "# sides and now in next call it has adar and will check again. when only d is present it will return true of if because \n",
    "# one string is already palindrome   "
   ]
  },
  {
   "cell_type": "code",
   "execution_count": null,
   "metadata": {},
   "outputs": [],
   "source": []
  },
  {
   "cell_type": "code",
   "execution_count": null,
   "metadata": {},
   "outputs": [],
   "source": []
  },
  {
   "cell_type": "markdown",
   "metadata": {},
   "source": []
  },
  {
   "cell_type": "code",
   "execution_count": null,
   "metadata": {},
   "outputs": [],
   "source": []
  }
 ],
 "metadata": {
  "kernelspec": {
   "display_name": "Python 3",
   "language": "python",
   "name": "python3"
  },
  "language_info": {
   "codemirror_mode": {
    "name": "ipython",
    "version": 3
   },
   "file_extension": ".py",
   "mimetype": "text/x-python",
   "name": "python",
   "nbconvert_exporter": "python",
   "pygments_lexer": "ipython3",
   "version": "3.12.6"
  }
 },
 "nbformat": 4,
 "nbformat_minor": 2
}
