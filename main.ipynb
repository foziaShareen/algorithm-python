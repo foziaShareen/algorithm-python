{
 "cells": [
  {
   "cell_type": "markdown",
   "metadata": {},
   "source": [
    "<div style= \"background:#2f3140;padding:15px;color:white;font-size:30px\">what is the criteria to comapare two programs which is better than other ❔🤫\n",
    "</div>"
   ]
  },
  {
   "cell_type": "markdown",
   "metadata": {},
   "source": [
    "<div style= \"background:#2f3140;padding:15px;color:white;font-size:30px\">\n",
    "<li>Readability 🔍</li>\n",
    "<li>Amount of computing resources ⌨️</li>\n",
    "<ol>i,amount of space(memory)</ol>\n",
    "<ol>ii,how much time it take</ol>\n",
    "</div>"
   ]
  },
  {
   "cell_type": "markdown",
   "metadata": {},
   "source": []
  },
  {
   "cell_type": "markdown",
   "metadata": {},
   "source": [
    "<div style= \"background:#2f3140;padding:15px;color:white;font-size:30px\">\n",
    "</div>how can we do it in python?? "
   ]
  },
  {
   "cell_type": "markdown",
   "metadata": {},
   "source": [
    "<div style= \"background:#2f3140;padding:15px;color:white;font-size:30px\">there is a module time we will use it\n",
    "</div>"
   ]
  },
  {
   "cell_type": "code",
   "execution_count": 4,
   "metadata": {},
   "outputs": [
    {
     "name": "stdout",
     "output_type": "stream",
     "text": [
      "Sum is 4999950000 and required 0.0035706 seconds\n",
      "Sum is 4999950000 and required 0.0030122 seconds\n",
      "Sum is 4999950000 and required 0.0050819 seconds\n",
      "Sum is 4999950000 and required 0.0060759 seconds\n",
      "Sum is 4999950000 and required 0.0065520 seconds\n",
      "Sum is 4999950000 and required 0.0052485 seconds\n",
      "Sum is 4999950000 and required 0.0062029 seconds\n",
      "Sum is 4999950000 and required 0.0046096 seconds\n",
      "Sum is 4999950000 and required 0.0041847 seconds\n",
      "Sum is 4999950000 and required 0.0070117 seconds\n"
     ]
    }
   ],
   "source": [
    "import time\n",
    "\n",
    "def sum_of_n(n):\n",
    "    return sum(range(n))\n",
    "\n",
    "for _ in range(10):\n",
    "    start_time = time.time()\n",
    "    result = sum_of_n(100000)\n",
    "    end_time = time.time()\n",
    "    print(f\"Sum is {result} and required {end_time - start_time:.7f} seconds\")"
   ]
  },
  {
   "cell_type": "code",
   "execution_count": 10,
   "metadata": {},
   "outputs": [
    {
     "name": "stdout",
     "output_type": "stream",
     "text": [
      "55.0\n"
     ]
    }
   ],
   "source": [
    "def sum_of_n_3(n):\n",
    "    return (n * (n + 1)) / 2\n",
    "print(sum_of_n_3(10))\n"
   ]
  },
  {
   "cell_type": "markdown",
   "metadata": {},
   "source": [
    "Write two Python functions to find the minimum number in a list. The first function should\n",
    "compare each number to every other number on the list. 𝑂(𝑛\n",
    "2\n",
    "). The second function should be\n",
    "linear 𝑂(𝑛)."
   ]
  },
  {
   "cell_type": "code",
   "execution_count": null,
   "metadata": {},
   "outputs": [],
   "source": [
    "def find_min_quadratic(numbers):\n",
    "    min_num = numbers[0]\n",
    "    for i in range(len(numbers)):\n",
    "        for j in range(len(numbers)):\n",
    "            if numbers[i] < numbers[j]:\n",
    "                min_num = numbers[i]\n",
    "    return min_num"
   ]
  },
  {
   "cell_type": "code",
   "execution_count": null,
   "metadata": {},
   "outputs": [],
   "source": [
    "def find_min_linear(numbers):\n",
    "    min_num = numbers[0]\n",
    "    for num in numbers:\n",
    "        if num < min_num:\n",
    "            min_num = num\n",
    "    return min_num"
   ]
  },
  {
   "cell_type": "markdown",
   "metadata": {},
   "source": [
    "anagram,"
   ]
  },
  {
   "cell_type": "markdown",
   "metadata": {},
   "source": []
  },
  {
   "cell_type": "code",
   "execution_count": null,
   "metadata": {},
   "outputs": [],
   "source": []
  },
  {
   "cell_type": "markdown",
   "metadata": {},
   "source": []
  }
 ],
 "metadata": {
  "kernelspec": {
   "display_name": "Python 3",
   "language": "python",
   "name": "python3"
  },
  "language_info": {
   "codemirror_mode": {
    "name": "ipython",
    "version": 3
   },
   "file_extension": ".py",
   "mimetype": "text/x-python",
   "name": "python",
   "nbconvert_exporter": "python",
   "pygments_lexer": "ipython3",
   "version": "3.12.6"
  }
 },
 "nbformat": 4,
 "nbformat_minor": 2
}
