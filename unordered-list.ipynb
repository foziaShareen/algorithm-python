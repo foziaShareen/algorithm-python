{
 "cells": [
  {
   "cell_type": "markdown",
   "metadata": {},
   "source": [
    "<div style=\"background:#665;padding:20px;color:white\"> <h1>The Unordered List Class </h1>\n",
    "the unordered list will be built from a collection of nodes, each linked\n",
    "to the next by explicit references. As long as we know where to find the first node (containing\n",
    "the first item), each item after that can be found by successively following the next links. With\n",
    "this in mind, the UnorderedList class must maintain a reference to the first node. The following\n",
    "code shows the constructor. Note that each list object will maintain a single reference to the\n",
    "head of the list.\n",
    "</div>"
   ]
  },
  {
   "cell_type": "code",
   "execution_count": null,
   "metadata": {},
   "outputs": [],
   "source": []
  }
 ],
 "metadata": {
  "language_info": {
   "name": "python"
  }
 },
 "nbformat": 4,
 "nbformat_minor": 2
}
