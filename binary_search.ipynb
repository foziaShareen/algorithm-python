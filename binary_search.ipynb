{
 "cells": [
  {
   "cell_type": "code",
   "execution_count": null,
   "metadata": {},
   "outputs": [],
   "source": [
    "\n"
   ]
  },
  {
   "cell_type": "code",
   "execution_count": 3,
   "metadata": {},
   "outputs": [
    {
     "data": {
      "text/plain": [
       "True"
      ]
     },
     "execution_count": 3,
     "metadata": {},
     "output_type": "execute_result"
    }
   ],
   "source": [
    "def binary_search(list,item):\n",
    "    first = 0\n",
    "    last =len(list)-1\n",
    "    found = False\n",
    "    while first<=last and not found:\n",
    "        midpoint = (first+last)// 2\n",
    "        if list[midpoint] == item:\n",
    "            found = True\n",
    "        else:\n",
    "            if item < list[midpoint]:\n",
    "                last = midpoint -1\n",
    "            else:\n",
    "                first = midpoint+1\n",
    "    return found \n",
    "binary_search([1,2,3,4,5,6,7,8,9,10],5)               "
   ]
  },
  {
   "cell_type": "code",
   "execution_count": null,
   "metadata": {},
   "outputs": [],
   "source": [
    "def bubble_sort(a_list):\n",
    "    for pass_num in range(len(a_list) - 1, 0, -1):\n",
    "        for i in range(pass_num):\n",
    "            if a_list[i] > a_list[i + 1]:\n",
    "                temp = a_list[i]\n",
    "                a_list[i] = a_list[i + 1]\n",
    "                a_list[i + 1] = temp\n",
    "a_list = [54, 26, 93, 17, 77, 31, 44, 55, 20]\n",
    "bubble_sort(a_list)\n",
    "print(a_list)"
   ]
  },
  {
   "cell_type": "code",
   "execution_count": null,
   "metadata": {},
   "outputs": [],
   "source": []
  }
 ],
 "metadata": {
  "kernelspec": {
   "display_name": "Python 3",
   "language": "python",
   "name": "python3"
  },
  "language_info": {
   "codemirror_mode": {
    "name": "ipython",
    "version": 3
   },
   "file_extension": ".py",
   "mimetype": "text/x-python",
   "name": "python",
   "nbconvert_exporter": "python",
   "pygments_lexer": "ipython3",
   "version": "3.12.6"
  }
 },
 "nbformat": 4,
 "nbformat_minor": 2
}
