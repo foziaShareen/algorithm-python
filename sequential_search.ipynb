{
 "cells": [
  {
   "cell_type": "code",
   "execution_count": 4,
   "metadata": {},
   "outputs": [
    {
     "data": {
      "text/plain": [
       "True"
      ]
     },
     "execution_count": 4,
     "metadata": {},
     "output_type": "execute_result"
    }
   ],
   "source": [
    "mylist = [1,2,3,4,5,6,7,8,9,10 ]\n",
    "def seq_search(mylist,item):\n",
    "    pos =0\n",
    "    found = False\n",
    "    while pos<len(mylist) and not found:\n",
    "        if mylist[pos]==item:\n",
    "            found= True\n",
    "            \n",
    "        else:\n",
    "            pos = pos+1  \n",
    "    return found\n",
    "seq_search([1,2,3,4,5,6,7,8,9,10 ],10)\n",
    "         "
   ]
  },
  {
   "cell_type": "code",
   "execution_count": null,
   "metadata": {},
   "outputs": [],
   "source": []
  }
 ],
 "metadata": {
  "kernelspec": {
   "display_name": "Python 3",
   "language": "python",
   "name": "python3"
  },
  "language_info": {
   "codemirror_mode": {
    "name": "ipython",
    "version": 3
   },
   "file_extension": ".py",
   "mimetype": "text/x-python",
   "name": "python",
   "nbconvert_exporter": "python",
   "pygments_lexer": "ipython3",
   "version": "3.12.6"
  }
 },
 "nbformat": 4,
 "nbformat_minor": 2
}
