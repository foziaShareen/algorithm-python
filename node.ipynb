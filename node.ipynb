{
 "cells": [
  {
   "cell_type": "markdown",
   "metadata": {},
   "source": [
    "<div style=\"background:#665;padding:20px;color:white\"> <h1>The Node Class 💻</h1>\n",
    "The basic building block for the linked list implementation is the node. Each node object must\n",
    "hold at least two pieces of information. First, the node must contain the list item itself. We will\n",
    "call this the data field of the node. In addition, each node must hold a reference to the next\n",
    "node. </div>"
   ]
  },
  {
   "cell_type": "code",
   "execution_count": 52,
   "metadata": {},
   "outputs": [],
   "source": [
    "class Node:\n",
    "    def __init__(self,data):\n",
    "        self.data = data\n",
    "        self.link=None\n",
    "    def getdata(self):\n",
    "        return self.data\n",
    "    def get_next(self):\n",
    "        return self.link\n",
    "    def set_next(self,new_node):\n",
    "        self.link = new_node\n",
    "    \n"
   ]
  },
  {
   "cell_type": "code",
   "execution_count": 53,
   "metadata": {},
   "outputs": [
    {
     "name": "stdout",
     "output_type": "stream",
     "text": [
      " 1  : 🦉\n"
     ]
    }
   ],
   "source": [
    "n1 = Node([1,2,3,4,\"string\",{1:\"🦉\"}])\n",
    "dict=n1.data[5]\n",
    "for key,value in dict.items():\n",
    "    print(f\" {key}  : {value}\")"
   ]
  },
  {
   "cell_type": "code",
   "execution_count": 54,
   "metadata": {},
   "outputs": [
    {
     "name": "stdout",
     "output_type": "stream",
     "text": [
      "None\n"
     ]
    }
   ],
   "source": [
    "next_node = n1.get_next()\n",
    "\n",
    "print(next_node)"
   ]
  },
  {
   "cell_type": "code",
   "execution_count": 59,
   "metadata": {},
   "outputs": [
    {
     "data": {
      "text/plain": [
       "3"
      ]
     },
     "execution_count": 59,
     "metadata": {},
     "output_type": "execute_result"
    }
   ],
   "source": [
    "temp = Node(3)\n",
    "temp.getdata()"
   ]
  },
  {
   "cell_type": "code",
   "execution_count": 55,
   "metadata": {},
   "outputs": [
    {
     "name": "stdout",
     "output_type": "stream",
     "text": [
      "There is no next node\n"
     ]
    }
   ],
   "source": [
    "#to get the value \n",
    "next_node = n1.get_next()\n",
    "if next_node is not None:\n",
    "    next_data = next_node.getdata()\n",
    "    print(next_data)\n",
    "else:\n",
    "    print(\"There is no next node\")"
   ]
  },
  {
   "cell_type": "code",
   "execution_count": 58,
   "metadata": {},
   "outputs": [
    {
     "data": {
      "text/plain": [
       "'data fornew node'"
      ]
     },
     "execution_count": 58,
     "metadata": {},
     "output_type": "execute_result"
    }
   ],
   "source": [
    "n1.set_next(\"data for new node\")\n",
    "n1.get_next()"
   ]
  },
  {
   "cell_type": "code",
   "execution_count": null,
   "metadata": {},
   "outputs": [],
   "source": [
    "n"
   ]
  },
  {
   "cell_type": "markdown",
   "metadata": {},
   "source": []
  }
 ],
 "metadata": {
  "kernelspec": {
   "display_name": "Python 3",
   "language": "python",
   "name": "python3"
  },
  "language_info": {
   "codemirror_mode": {
    "name": "ipython",
    "version": 3
   },
   "file_extension": ".py",
   "mimetype": "text/x-python",
   "name": "python",
   "nbconvert_exporter": "python",
   "pygments_lexer": "ipython3",
   "version": "3.12.6"
  }
 },
 "nbformat": 4,
 "nbformat_minor": 2
}
